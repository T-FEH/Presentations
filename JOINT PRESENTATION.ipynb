{
 "cells": [
  {
   "cell_type": "markdown",
   "id": "7613b581",
   "metadata": {
    "slideshow": {
     "slide_type": "slide"
    }
   },
   "source": [
    "# Project Title: \"Security Tracking Chip: Enhancing Personal and Asset Security\"\n",
    "## Authors: Alewi Boluwatife & Uwa Joseph\n",
    "## Date: August, 2023"
   ]
  },
  {
   "cell_type": "markdown",
   "id": "b6f3d7f4",
   "metadata": {
    "slideshow": {
     "slide_type": "slide"
    }
   },
   "source": [
    "__Introduction__\n",
    "\n",
    "- Security is protection against potential harm (or other unwanted coercion) caused by others, by restraining the freedom of others to act. Beneficiaries (technically referents) of security may be of persons and social groups, objects and institutions, ecosystems or any other entity or phenomenon vulnerable to unwanted change.\n",
    "\n",
    "- Personal Security is a state of being that occurs after all reasonable and adequate measures have been taken to delay a crime or possible crime, as well as adequate provision being made to warn against such a possible crime, in order to protect our assets\n",
    "\n",
    "This project will help us initiate a trained AI model that will help in reducing theft such as personal belongings."
   ]
  },
  {
   "cell_type": "markdown",
   "id": "f97c8c50",
   "metadata": {
    "slideshow": {
     "slide_type": "slide"
    }
   },
   "source": [
    "__Growing concerns about Asset Security__\n",
    "\n",
    "- There are many security risks and concerns regarding asset security. According to Gartner, Inc., security leaders must evolve strategies to protect an expanding digital footprint against emerging threats. There are many risks associated with the use of cyber-physical systems, open-source code, cloud applications, complex digital supply chains, social media and more which have brought organizations’ exposed surfaces outside of a set of controllable assets. Organizations must look beyond traditional approaches to security monitoring, detection and response to manage a wider set of security exposures."
   ]
  },
  {
   "cell_type": "markdown",
   "id": "880cc14e",
   "metadata": {
    "slideshow": {
     "slide_type": "slide"
    }
   },
   "source": [
    "__Purpose of Security Tracking Chip__\n",
    "\n",
    "- A security tracking chip is a microchip that is often built into a computer to provide hardware-based security. It can be added later by industrious users who attach the chip to the motherboard. Some of the data we transmit throughout the day is sent unencrypted, as plain text. TPM chips use a mix of software and hardware to protect any important passwords or encryption keys when they are sent in this unencrypted form. If a TPM chip senses that a system's integrity has been compromised by a virus or malware, it can start up in a quarantine mode to help fix the problem. TPM chips also provide safe storage of encryption keys, certificates and passwords used for logging in to online services, which is a more secure method than storing them inside software on the hard drive. If the device is also stolen, the original user can login (cloud) and automatical trigger the alarm system and the person that stole will be caught using the device in-built GPS."
   ]
  },
  {
   "cell_type": "markdown",
   "id": "d29a7652",
   "metadata": {
    "slideshow": {
     "slide_type": "slide"
    }
   },
   "source": [
    "__Key Features__\n",
    "\n",
    "List of essential features :\n",
    "    \n",
    "- GPS Tracking: Real-time location tracking using GPS technology.\n",
    "\n",
    "- Compact Design: Small form factor for easy concealment.\n",
    "\n",
    "- Battery Life: Efficient power management for extended operation.\n",
    "\n",
    "- Data Transmission: Secure and reliable data transmission methods."
   ]
  },
  {
   "cell_type": "markdown",
   "id": "e25eee4e",
   "metadata": {
    "slideshow": {
     "slide_type": "slide"
    }
   },
   "source": [
    "__User Interface__\n",
    "\n",
    "- Mobile App: Show screenshots or mockups of a mobile app that displays tracked locations.\n",
    "\n",
    "- Web Dashboard: Display an example of a web-based dashboard for tracking purposes."
   ]
  },
  {
   "cell_type": "markdown",
   "id": "f525e3ca",
   "metadata": {
    "slideshow": {
     "slide_type": "slide"
    }
   },
   "source": [
    "__Use Cases__\n",
    "\n",
    "This can be applied in many instances and can be used in real practical scenerios as listed below;\n",
    "\n",
    "1. Personal Belongings: Prevent loss of valuable items like smartphones, wallets, and keys.    \n",
    "\n",
    "2. Vehicle Tracking: Monitor the location of vehicles for theft prevention.     \n",
    "\n",
    "3. Tracking of election results and report it in real-time.     \n",
    "\n",
    "4. Pet Tracking: Keep track of pets during walks or outdoor activities.    "
   ]
  },
  {
   "cell_type": "markdown",
   "id": "fb65f694",
   "metadata": {
    "slideshow": {
     "slide_type": "slide"
    }
   },
   "source": [
    "### Conclusion\n",
    "\n",
    "Ensuring the safety of our devices, properties et al is extremely important just like securing our own lives and that of our family. For this, Joseph and I thought of ways in which we can provide an efficient and enhancing our personal security and as well as safe-guarding our assets. Doing so will help in reduction of theft and crime rate in the society."
   ]
  }
 ],
 "metadata": {
  "celltoolbar": "Slideshow",
  "kernelspec": {
   "display_name": "presentations",
   "language": "python",
   "name": "presentations"
  },
  "language_info": {
   "codemirror_mode": {
    "name": "ipython",
    "version": 3
   },
   "file_extension": ".py",
   "mimetype": "text/x-python",
   "name": "python",
   "nbconvert_exporter": "python",
   "pygments_lexer": "ipython3",
   "version": "3.10.12"
  }
 },
 "nbformat": 4,
 "nbformat_minor": 5
}
